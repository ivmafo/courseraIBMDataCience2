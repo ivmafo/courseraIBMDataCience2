{
 "cells": [
  {
   "cell_type": "markdown",
   "id": "4cad2389",
   "metadata": {},
   "source": [
    "# Data Science Tools and Ecosystem"
   ]
  },
  {
   "cell_type": "markdown",
   "id": "68adf7bf",
   "metadata": {},
   "source": [
    "## In this notebook, Data Science Tools and Ecosystem are summarized."
   ]
  },
  {
   "cell_type": "markdown",
   "id": "83da715c",
   "metadata": {},
   "source": [
    "### Some of the popular languages that Data Scientists use are:\n",
    "\n",
    "1. Python.\n",
    "2. R.\n",
    "3. SQL.\n",
    "4. Java.\n",
    "5. Julia.\n"
   ]
  },
  {
   "cell_type": "markdown",
   "id": "436145f1",
   "metadata": {},
   "source": [
    "Some of the commonly used libraries used by Data Scientists include:\n",
    "\n",
    "1. **Pandas:** A powerful data analysis and manipulation library for Python.\n",
    "2. **NumPy:** A fundamental package for scientific computing with Python, providing support for arrays, matrices, and mathematical functions.\n",
    "3. **Scikit-Learn:** A simple and efficient tool for data mining and data analysis, built on NumPy, SciPy, and matplotlib.\n",
    "\n"
   ]
  },
  {
   "cell_type": "markdown",
   "id": "dff1ea1d",
   "metadata": {},
   "source": [
    "| Data Science Tools       |\n",
    "|--------------------------|\n",
    "| Jupyter Notebooks        |\n",
    "| RStudio                  |\n",
    "| VS Code with Python      |\n",
    "\n"
   ]
  },
  {
   "cell_type": "markdown",
   "id": "6eb40993",
   "metadata": {},
   "source": [
    "### Below are a few examples of evaluating arithmetic expressions in Python.\n"
   ]
  },
  {
   "cell_type": "code",
   "execution_count": 2,
   "id": "b71ca27b",
   "metadata": {},
   "outputs": [
    {
     "data": {
      "text/plain": [
       "17"
      ]
     },
     "execution_count": 2,
     "metadata": {},
     "output_type": "execute_result"
    }
   ],
   "source": [
    "# This is a simple arithmetic expression to multiply and then add integers.\n",
    "result = (3 * 4) + 5\n",
    "result\n"
   ]
  },
  {
   "cell_type": "code",
   "execution_count": 11,
   "id": "2a9f4066",
   "metadata": {},
   "outputs": [
    {
     "data": {
      "text/plain": [
       "3.3333333333333335"
      ]
     },
     "execution_count": 11,
     "metadata": {},
     "output_type": "execute_result"
    }
   ],
   "source": [
    "hours = 200 / 60\n",
    "hours"
   ]
  },
  {
   "cell_type": "markdown",
   "id": "9f49f7f4",
   "metadata": {},
   "source": [
    "**Objectives:**\n",
    "\n",
    "- List popular languages for Data Science.\n",
    "- Explain the difference between supervised and unsupervised learning.\n",
    "- Introduce common libraries and tools used in Data Science.\n",
    "- Provide examples of basic arithmetic operations in Python.\n",
    "- Demonstrate concatenation and conversion operations in Python.\n"
   ]
  },
  {
   "cell_type": "markdown",
   "id": "f85b6e8b",
   "metadata": {},
   "source": [
    "## Author\n",
    "\n",
    "IVAN FORERO \n"
   ]
  },
  {
   "cell_type": "code",
   "execution_count": null,
   "id": "fa410e0b",
   "metadata": {},
   "outputs": [],
   "source": []
  }
 ],
 "metadata": {
  "kernelspec": {
   "display_name": "Python 3 (ipykernel)",
   "language": "python",
   "name": "python3"
  },
  "language_info": {
   "codemirror_mode": {
    "name": "ipython",
    "version": 3
   },
   "file_extension": ".py",
   "mimetype": "text/x-python",
   "name": "python",
   "nbconvert_exporter": "python",
   "pygments_lexer": "ipython3",
   "version": "3.11.5"
  }
 },
 "nbformat": 4,
 "nbformat_minor": 5
}
